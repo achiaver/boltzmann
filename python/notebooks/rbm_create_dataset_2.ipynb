{
 "cells": [
  {
   "cell_type": "code",
   "execution_count": 1,
   "metadata": {},
   "outputs": [],
   "source": [
    "import numpy as np\n",
    "import matplotlib.pyplot as plt\n",
    "import pandas as pd"
   ]
  },
  {
   "cell_type": "code",
   "execution_count": 14,
   "metadata": {},
   "outputs": [],
   "source": [
    "num_examples = 2\n",
    "num_times = 30"
   ]
  },
  {
   "cell_type": "code",
   "execution_count": 15,
   "metadata": {},
   "outputs": [],
   "source": [
    "num_layers = 2\n",
    "num_hidden = 4"
   ]
  },
  {
   "cell_type": "code",
   "execution_count": 16,
   "metadata": {},
   "outputs": [],
   "source": [
    "maxepochs = 1000\n",
    "epsilonw = 0.01\n",
    "epsilonvb = 0.01\n",
    "epsilonhb = 0.01"
   ]
  },
  {
   "cell_type": "code",
   "execution_count": 17,
   "metadata": {},
   "outputs": [],
   "source": [
    "def add_examples (data, num_examples, num_visible):\n",
    "    return np.concatenate((data, \n",
    "                           np.random.randint(2, size = (num_examples, num_visible))))"
   ]
  },
  {
   "cell_type": "code",
   "execution_count": 18,
   "metadata": {},
   "outputs": [],
   "source": [
    "pattern = np.array([[1,0,0,1,0,1,0,1,0]])"
   ]
  },
  {
   "cell_type": "code",
   "execution_count": 19,
   "metadata": {},
   "outputs": [],
   "source": [
    "num_visible = pattern.shape[1]"
   ]
  },
  {
   "cell_type": "code",
   "execution_count": 20,
   "metadata": {},
   "outputs": [],
   "source": [
    "dataset = add_examples(pattern, num_examples, num_visible)\n",
    "\n",
    "for i in range(num_times):\n",
    "    dataset = np.concatenate((dataset, pattern))\n",
    "    dataset = add_examples(dataset, num_examples, num_visible)"
   ]
  },
  {
   "cell_type": "code",
   "execution_count": 21,
   "metadata": {},
   "outputs": [
    {
     "data": {
      "text/plain": [
       "(93, 9)"
      ]
     },
     "execution_count": 21,
     "metadata": {},
     "output_type": "execute_result"
    }
   ],
   "source": [
    "dataset.shape"
   ]
  },
  {
   "cell_type": "code",
   "execution_count": 22,
   "metadata": {},
   "outputs": [],
   "source": [
    "unq, inv, cnt = np.unique(dataset, axis = 0,\n",
    "                              return_inverse = True,\n",
    "                              return_counts = True)"
   ]
  },
  {
   "cell_type": "markdown",
   "metadata": {},
   "source": [
    "Each unique row present in the dataset"
   ]
  },
  {
   "cell_type": "code",
   "execution_count": 23,
   "metadata": {},
   "outputs": [
    {
     "data": {
      "text/plain": [
       "array([[0, 0, 0, 0, 0, 0, 1, 1, 1],\n",
       "       [0, 0, 0, 0, 0, 1, 1, 0, 0],\n",
       "       [0, 0, 0, 0, 0, 1, 1, 1, 1],\n",
       "       [0, 0, 0, 0, 1, 1, 1, 1, 0],\n",
       "       [0, 0, 0, 1, 0, 0, 1, 1, 1],\n",
       "       [0, 0, 0, 1, 0, 1, 0, 0, 0],\n",
       "       [0, 0, 0, 1, 0, 1, 1, 1, 0],\n",
       "       [0, 0, 0, 1, 1, 0, 0, 1, 0],\n",
       "       [0, 0, 0, 1, 1, 0, 1, 0, 1],\n",
       "       [0, 0, 0, 1, 1, 1, 0, 0, 0],\n",
       "       [0, 0, 1, 0, 0, 0, 1, 1, 0],\n",
       "       [0, 0, 1, 0, 1, 0, 0, 1, 1],\n",
       "       [0, 0, 1, 0, 1, 0, 1, 0, 1],\n",
       "       [0, 0, 1, 0, 1, 1, 1, 0, 1],\n",
       "       [0, 0, 1, 1, 0, 0, 1, 0, 1],\n",
       "       [0, 0, 1, 1, 0, 0, 1, 1, 1],\n",
       "       [0, 0, 1, 1, 0, 1, 0, 0, 1],\n",
       "       [0, 0, 1, 1, 0, 1, 1, 0, 0],\n",
       "       [0, 0, 1, 1, 0, 1, 1, 1, 0],\n",
       "       [0, 0, 1, 1, 0, 1, 1, 1, 1],\n",
       "       [0, 0, 1, 1, 1, 1, 0, 1, 0],\n",
       "       [0, 0, 1, 1, 1, 1, 1, 1, 1],\n",
       "       [0, 1, 0, 0, 0, 1, 1, 1, 0],\n",
       "       [0, 1, 0, 1, 0, 0, 0, 1, 0],\n",
       "       [0, 1, 0, 1, 0, 0, 1, 1, 0],\n",
       "       [0, 1, 0, 1, 0, 1, 0, 0, 0],\n",
       "       [0, 1, 1, 0, 1, 1, 0, 1, 0],\n",
       "       [0, 1, 1, 0, 1, 1, 1, 1, 0],\n",
       "       [0, 1, 1, 1, 1, 0, 0, 0, 1],\n",
       "       [0, 1, 1, 1, 1, 0, 1, 1, 1],\n",
       "       [0, 1, 1, 1, 1, 1, 0, 0, 0],\n",
       "       [0, 1, 1, 1, 1, 1, 1, 0, 0],\n",
       "       [1, 0, 0, 0, 0, 1, 1, 0, 0],\n",
       "       [1, 0, 0, 0, 1, 1, 1, 1, 0],\n",
       "       [1, 0, 0, 0, 1, 1, 1, 1, 1],\n",
       "       [1, 0, 0, 1, 0, 0, 0, 0, 1],\n",
       "       [1, 0, 0, 1, 0, 1, 0, 1, 0],\n",
       "       [1, 0, 0, 1, 1, 0, 1, 0, 0],\n",
       "       [1, 0, 0, 1, 1, 1, 0, 0, 0],\n",
       "       [1, 0, 0, 1, 1, 1, 0, 1, 1],\n",
       "       [1, 0, 1, 0, 0, 1, 0, 1, 0],\n",
       "       [1, 0, 1, 0, 0, 1, 0, 1, 1],\n",
       "       [1, 0, 1, 0, 0, 1, 1, 0, 0],\n",
       "       [1, 0, 1, 0, 1, 1, 1, 0, 1],\n",
       "       [1, 0, 1, 1, 0, 1, 0, 0, 1],\n",
       "       [1, 0, 1, 1, 1, 0, 0, 0, 1],\n",
       "       [1, 1, 0, 0, 0, 0, 1, 0, 0],\n",
       "       [1, 1, 0, 0, 0, 0, 1, 1, 1],\n",
       "       [1, 1, 0, 0, 1, 0, 0, 1, 0],\n",
       "       [1, 1, 0, 0, 1, 0, 1, 0, 1],\n",
       "       [1, 1, 0, 1, 0, 1, 1, 1, 1],\n",
       "       [1, 1, 0, 1, 1, 0, 0, 1, 0],\n",
       "       [1, 1, 0, 1, 1, 1, 0, 1, 0],\n",
       "       [1, 1, 1, 0, 0, 0, 1, 1, 1],\n",
       "       [1, 1, 1, 0, 0, 1, 0, 1, 0],\n",
       "       [1, 1, 1, 0, 1, 0, 1, 0, 0],\n",
       "       [1, 1, 1, 0, 1, 0, 1, 1, 0],\n",
       "       [1, 1, 1, 0, 1, 1, 1, 0, 1],\n",
       "       [1, 1, 1, 1, 0, 1, 1, 1, 1]])"
      ]
     },
     "execution_count": 23,
     "metadata": {},
     "output_type": "execute_result"
    }
   ],
   "source": [
    "unq"
   ]
  },
  {
   "cell_type": "markdown",
   "metadata": {},
   "source": [
    "Count of occurencies for each row, if repeated number is greater than 1."
   ]
  },
  {
   "cell_type": "code",
   "execution_count": 24,
   "metadata": {},
   "outputs": [
    {
     "data": {
      "text/plain": [
       "array([36, 51, 40, 36, 44, 21, 36,  2, 49, 36, 56, 46, 36, 18,  7, 36, 14,\n",
       "       26, 36, 39, 31, 36, 25, 29, 36,  3, 17, 36, 28, 13, 36, 19, 38, 36,\n",
       "       53, 50, 36, 22,  6, 36, 55, 24, 36, 43, 32, 36,  1, 15, 36, 58, 10,\n",
       "       36,  9, 12, 36,  4, 54, 36,  4, 11, 36, 47, 20, 36, 49,  8, 36, 41,\n",
       "       33, 36, 35, 45, 36, 52, 48, 36, 37, 46, 36,  5,  0, 36, 30, 23, 36,\n",
       "       34, 57, 36, 16, 22, 36, 42, 27])"
      ]
     },
     "execution_count": 24,
     "metadata": {},
     "output_type": "execute_result"
    }
   ],
   "source": [
    "inv"
   ]
  },
  {
   "cell_type": "markdown",
   "metadata": {},
   "source": [
    "Count of each unique row in dataset."
   ]
  },
  {
   "cell_type": "code",
   "execution_count": 25,
   "metadata": {},
   "outputs": [
    {
     "data": {
      "text/plain": [
       "array([ 1,  1,  1,  1,  2,  1,  1,  1,  1,  1,  1,  1,  1,  1,  1,  1,  1,\n",
       "        1,  1,  1,  1,  1,  2,  1,  1,  1,  1,  1,  1,  1,  1,  1,  1,  1,\n",
       "        1,  1, 31,  1,  1,  1,  1,  1,  1,  1,  1,  1,  2,  1,  1,  2,  1,\n",
       "        1,  1,  1,  1,  1,  1,  1,  1])"
      ]
     },
     "execution_count": 25,
     "metadata": {},
     "output_type": "execute_result"
    }
   ],
   "source": [
    "cnt"
   ]
  },
  {
   "cell_type": "code",
   "execution_count": null,
   "metadata": {},
   "outputs": [],
   "source": []
  }
 ],
 "metadata": {
  "kernelspec": {
   "display_name": "Python 3",
   "language": "python",
   "name": "python3"
  },
  "language_info": {
   "codemirror_mode": {
    "name": "ipython",
    "version": 3
   },
   "file_extension": ".py",
   "mimetype": "text/x-python",
   "name": "python",
   "nbconvert_exporter": "python",
   "pygments_lexer": "ipython3",
   "version": "3.7.7"
  },
  "varInspector": {
   "cols": {
    "lenName": 16,
    "lenType": 16,
    "lenVar": 40
   },
   "kernels_config": {
    "python": {
     "delete_cmd_postfix": "",
     "delete_cmd_prefix": "del ",
     "library": "var_list.py",
     "varRefreshCmd": "print(var_dic_list())"
    },
    "r": {
     "delete_cmd_postfix": ") ",
     "delete_cmd_prefix": "rm(",
     "library": "var_list.r",
     "varRefreshCmd": "cat(var_dic_list()) "
    }
   },
   "types_to_exclude": [
    "module",
    "function",
    "builtin_function_or_method",
    "instance",
    "_Feature"
   ],
   "window_display": false
  }
 },
 "nbformat": 4,
 "nbformat_minor": 4
}
