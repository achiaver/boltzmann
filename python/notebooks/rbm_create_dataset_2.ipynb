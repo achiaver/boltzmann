{
 "cells": [
  {
   "cell_type": "code",
   "execution_count": 1,
   "metadata": {},
   "outputs": [],
   "source": [
    "import numpy as np\n",
    "import matplotlib.pyplot as plt\n",
    "import pandas as pd"
   ]
  },
  {
   "cell_type": "code",
   "execution_count": 2,
   "metadata": {},
   "outputs": [],
   "source": [
    "num_examples = 2\n",
    "num_times = 30"
   ]
  },
  {
   "cell_type": "code",
   "execution_count": 3,
   "metadata": {},
   "outputs": [],
   "source": [
    "num_layers = 2\n",
    "num_hidden = 4"
   ]
  },
  {
   "cell_type": "code",
   "execution_count": 4,
   "metadata": {},
   "outputs": [],
   "source": [
    "maxepochs = 1000\n",
    "epsilonw = 0.01\n",
    "epsilonvb = 0.01\n",
    "epsilonhb = 0.01"
   ]
  },
  {
   "cell_type": "code",
   "execution_count": 5,
   "metadata": {},
   "outputs": [],
   "source": [
    "def add_examples (data, num_examples, num_visible):\n",
    "    return np.concatenate((data, \n",
    "                           np.random.randint(2, size = (num_examples, num_visible))))"
   ]
  },
  {
   "cell_type": "code",
   "execution_count": 6,
   "metadata": {},
   "outputs": [],
   "source": [
    "pattern = np.array([[1,0,0,1,0,1,0,1,0]])"
   ]
  },
  {
   "cell_type": "code",
   "execution_count": 7,
   "metadata": {},
   "outputs": [],
   "source": [
    "num_visible = pattern.shape[1]"
   ]
  },
  {
   "cell_type": "code",
   "execution_count": 8,
   "metadata": {},
   "outputs": [],
   "source": [
    "dataset = add_examples(pattern, num_examples, num_visible)\n",
    "\n",
    "for i in range(num_times):\n",
    "    dataset = np.concatenate((dataset, pattern))\n",
    "    dataset = add_examples(dataset, num_examples, num_visible)"
   ]
  },
  {
   "cell_type": "code",
   "execution_count": 9,
   "metadata": {},
   "outputs": [
    {
     "data": {
      "text/plain": [
       "(93, 9)"
      ]
     },
     "execution_count": 9,
     "metadata": {},
     "output_type": "execute_result"
    }
   ],
   "source": [
    "dataset.shape"
   ]
  },
  {
   "cell_type": "code",
   "execution_count": 10,
   "metadata": {},
   "outputs": [],
   "source": [
    "unq, cnt = np.unique(dataset, axis = 0,\n",
    "                              return_counts = True)"
   ]
  },
  {
   "cell_type": "markdown",
   "metadata": {},
   "source": [
    "Each unique row present in the dataset"
   ]
  },
  {
   "cell_type": "code",
   "execution_count": 11,
   "metadata": {},
   "outputs": [
    {
     "data": {
      "text/plain": [
       "array([[0, 0, 0, 0, 0, 0, 0, 0, 0],\n",
       "       [0, 0, 0, 0, 0, 0, 1, 0, 1],\n",
       "       [0, 0, 0, 0, 1, 0, 1, 0, 1],\n",
       "       [0, 0, 0, 0, 1, 1, 1, 0, 0],\n",
       "       [0, 0, 0, 1, 0, 1, 0, 1, 0],\n",
       "       [0, 0, 0, 1, 1, 0, 1, 1, 0],\n",
       "       [0, 0, 0, 1, 1, 1, 0, 1, 0],\n",
       "       [0, 0, 1, 0, 0, 0, 0, 0, 1],\n",
       "       [0, 0, 1, 0, 1, 0, 0, 0, 1],\n",
       "       [0, 0, 1, 0, 1, 0, 1, 0, 1],\n",
       "       [0, 0, 1, 0, 1, 0, 1, 1, 1],\n",
       "       [0, 0, 1, 0, 1, 1, 0, 1, 1],\n",
       "       [0, 0, 1, 0, 1, 1, 1, 0, 1],\n",
       "       [0, 0, 1, 1, 0, 0, 1, 0, 0],\n",
       "       [0, 0, 1, 1, 1, 1, 0, 0, 1],\n",
       "       [0, 1, 0, 0, 0, 0, 0, 1, 0],\n",
       "       [0, 1, 0, 0, 1, 0, 0, 1, 1],\n",
       "       [0, 1, 0, 0, 1, 1, 0, 1, 1],\n",
       "       [0, 1, 0, 0, 1, 1, 1, 1, 1],\n",
       "       [0, 1, 0, 1, 1, 1, 0, 1, 0],\n",
       "       [0, 1, 1, 0, 0, 0, 1, 0, 0],\n",
       "       [0, 1, 1, 0, 0, 1, 0, 0, 0],\n",
       "       [0, 1, 1, 0, 0, 1, 1, 1, 0],\n",
       "       [0, 1, 1, 1, 0, 0, 1, 0, 0],\n",
       "       [0, 1, 1, 1, 0, 0, 1, 1, 0],\n",
       "       [0, 1, 1, 1, 0, 0, 1, 1, 1],\n",
       "       [0, 1, 1, 1, 0, 1, 0, 1, 1],\n",
       "       [0, 1, 1, 1, 0, 1, 1, 0, 0],\n",
       "       [0, 1, 1, 1, 1, 0, 1, 0, 0],\n",
       "       [0, 1, 1, 1, 1, 1, 0, 0, 1],\n",
       "       [1, 0, 0, 0, 0, 0, 0, 0, 1],\n",
       "       [1, 0, 0, 0, 1, 0, 1, 0, 0],\n",
       "       [1, 0, 0, 0, 1, 0, 1, 1, 0],\n",
       "       [1, 0, 0, 0, 1, 1, 1, 0, 1],\n",
       "       [1, 0, 0, 1, 0, 0, 1, 0, 0],\n",
       "       [1, 0, 0, 1, 0, 0, 1, 1, 0],\n",
       "       [1, 0, 0, 1, 0, 1, 0, 1, 0],\n",
       "       [1, 0, 1, 0, 1, 0, 1, 1, 1],\n",
       "       [1, 0, 1, 1, 0, 0, 1, 0, 0],\n",
       "       [1, 0, 1, 1, 0, 1, 1, 0, 0],\n",
       "       [1, 0, 1, 1, 1, 1, 0, 1, 1],\n",
       "       [1, 1, 0, 0, 0, 1, 0, 0, 1],\n",
       "       [1, 1, 0, 0, 1, 1, 0, 0, 1],\n",
       "       [1, 1, 0, 1, 0, 0, 0, 1, 0],\n",
       "       [1, 1, 0, 1, 0, 0, 1, 0, 1],\n",
       "       [1, 1, 0, 1, 0, 0, 1, 1, 1],\n",
       "       [1, 1, 0, 1, 0, 1, 0, 1, 1],\n",
       "       [1, 1, 0, 1, 0, 1, 1, 1, 1],\n",
       "       [1, 1, 1, 0, 0, 1, 0, 0, 0],\n",
       "       [1, 1, 1, 0, 0, 1, 0, 0, 1],\n",
       "       [1, 1, 1, 0, 0, 1, 1, 1, 0],\n",
       "       [1, 1, 1, 0, 1, 0, 1, 0, 1],\n",
       "       [1, 1, 1, 0, 1, 0, 1, 1, 1],\n",
       "       [1, 1, 1, 0, 1, 1, 0, 1, 0],\n",
       "       [1, 1, 1, 1, 0, 0, 1, 0, 1],\n",
       "       [1, 1, 1, 1, 0, 1, 0, 0, 0],\n",
       "       [1, 1, 1, 1, 0, 1, 1, 1, 1],\n",
       "       [1, 1, 1, 1, 1, 1, 0, 1, 1]])"
      ]
     },
     "execution_count": 11,
     "metadata": {},
     "output_type": "execute_result"
    }
   ],
   "source": [
    "unq"
   ]
  },
  {
   "cell_type": "markdown",
   "metadata": {},
   "source": [
    "Count of each unique row in dataset."
   ]
  },
  {
   "cell_type": "code",
   "execution_count": 12,
   "metadata": {},
   "outputs": [
    {
     "data": {
      "text/plain": [
       "array([ 1,  1,  1,  1,  1,  1,  1,  1,  1,  2,  1,  1,  1,  1,  1,  1,  1,\n",
       "        1,  1,  1,  1,  1,  1,  1,  1,  3,  1,  1,  1,  1,  1,  1,  1,  1,\n",
       "        1,  1, 31,  1,  1,  1,  1,  1,  1,  1,  2,  1,  1,  2,  1,  1,  1,\n",
       "        1,  1,  1,  1,  1,  1,  1])"
      ]
     },
     "execution_count": 12,
     "metadata": {},
     "output_type": "execute_result"
    }
   ],
   "source": [
    "cnt"
   ]
  },
  {
   "cell_type": "code",
   "execution_count": 13,
   "metadata": {},
   "outputs": [],
   "source": [
    "np.savetxt(\"../../c_lang/dataset/training_dataset_2.csv\", dataset, fmt=\"%1.0f\", delimiter=\",\")"
   ]
  },
  {
   "cell_type": "code",
   "execution_count": 14,
   "metadata": {},
   "outputs": [
    {
     "data": {
      "text/plain": [
       "array([[1, 0, 0, 1, 0, 1, 0, 1, 0],\n",
       "       [1, 1, 1, 0, 0, 1, 0, 0, 1],\n",
       "       [0, 0, 1, 0, 1, 0, 1, 1, 1],\n",
       "       [1, 0, 0, 1, 0, 1, 0, 1, 0],\n",
       "       [0, 1, 1, 1, 0, 0, 1, 0, 0],\n",
       "       [0, 0, 0, 1, 0, 1, 0, 1, 0],\n",
       "       [1, 0, 0, 1, 0, 1, 0, 1, 0],\n",
       "       [0, 0, 0, 0, 0, 0, 0, 0, 0],\n",
       "       [0, 1, 1, 1, 0, 0, 1, 1, 0],\n",
       "       [1, 0, 0, 1, 0, 1, 0, 1, 0],\n",
       "       [1, 1, 1, 1, 0, 1, 0, 0, 0],\n",
       "       [0, 1, 1, 1, 0, 0, 1, 1, 1],\n",
       "       [1, 0, 0, 1, 0, 1, 0, 1, 0],\n",
       "       [1, 1, 0, 1, 0, 1, 1, 1, 1],\n",
       "       [1, 1, 0, 1, 0, 1, 0, 1, 1],\n",
       "       [1, 0, 0, 1, 0, 1, 0, 1, 0],\n",
       "       [1, 1, 0, 0, 1, 1, 0, 0, 1],\n",
       "       [0, 1, 1, 1, 1, 1, 0, 0, 1],\n",
       "       [1, 0, 0, 1, 0, 1, 0, 1, 0],\n",
       "       [0, 0, 0, 1, 1, 1, 0, 1, 0],\n",
       "       [0, 0, 1, 0, 1, 0, 0, 0, 1],\n",
       "       [1, 0, 0, 1, 0, 1, 0, 1, 0],\n",
       "       [0, 0, 1, 0, 1, 1, 1, 0, 1],\n",
       "       [0, 0, 1, 0, 1, 0, 1, 0, 1],\n",
       "       [1, 0, 0, 1, 0, 1, 0, 1, 0],\n",
       "       [1, 1, 1, 1, 1, 1, 0, 1, 1],\n",
       "       [1, 0, 1, 1, 0, 0, 1, 0, 0],\n",
       "       [1, 0, 0, 1, 0, 1, 0, 1, 0],\n",
       "       [1, 0, 1, 1, 0, 1, 1, 0, 0],\n",
       "       [1, 1, 1, 0, 0, 1, 0, 0, 0],\n",
       "       [1, 0, 0, 1, 0, 1, 0, 1, 0],\n",
       "       [0, 1, 1, 0, 0, 1, 1, 1, 0],\n",
       "       [1, 1, 1, 1, 0, 1, 1, 1, 1],\n",
       "       [1, 0, 0, 1, 0, 1, 0, 1, 0],\n",
       "       [0, 0, 0, 1, 1, 0, 1, 1, 0],\n",
       "       [1, 0, 0, 0, 1, 0, 1, 0, 0],\n",
       "       [1, 0, 0, 1, 0, 1, 0, 1, 0],\n",
       "       [1, 0, 0, 0, 1, 1, 1, 0, 1],\n",
       "       [0, 0, 0, 0, 1, 0, 1, 0, 1],\n",
       "       [1, 0, 0, 1, 0, 1, 0, 1, 0],\n",
       "       [1, 1, 0, 0, 0, 1, 0, 0, 1],\n",
       "       [1, 1, 1, 0, 1, 0, 1, 0, 1],\n",
       "       [1, 0, 0, 1, 0, 1, 0, 1, 0],\n",
       "       [1, 0, 1, 1, 1, 1, 0, 1, 1],\n",
       "       [1, 1, 1, 0, 0, 1, 1, 1, 0],\n",
       "       [1, 0, 0, 1, 0, 1, 0, 1, 0],\n",
       "       [1, 1, 1, 1, 0, 0, 1, 0, 1],\n",
       "       [0, 1, 1, 1, 0, 1, 0, 1, 1],\n",
       "       [1, 0, 0, 1, 0, 1, 0, 1, 0],\n",
       "       [0, 0, 1, 1, 0, 0, 1, 0, 0],\n",
       "       [0, 1, 0, 0, 1, 1, 0, 1, 1],\n",
       "       [1, 0, 0, 1, 0, 1, 0, 1, 0],\n",
       "       [0, 0, 1, 0, 1, 0, 1, 0, 1],\n",
       "       [1, 1, 0, 1, 0, 0, 1, 1, 1],\n",
       "       [1, 0, 0, 1, 0, 1, 0, 1, 0],\n",
       "       [1, 0, 0, 1, 0, 0, 1, 0, 0],\n",
       "       [0, 1, 0, 1, 1, 1, 0, 1, 0],\n",
       "       [1, 0, 0, 1, 0, 1, 0, 1, 0],\n",
       "       [0, 0, 0, 0, 1, 1, 1, 0, 0],\n",
       "       [0, 1, 1, 1, 0, 1, 1, 0, 0],\n",
       "       [1, 0, 0, 1, 0, 1, 0, 1, 0],\n",
       "       [0, 0, 1, 0, 0, 0, 0, 0, 1],\n",
       "       [1, 0, 0, 1, 0, 0, 1, 1, 0],\n",
       "       [1, 0, 0, 1, 0, 1, 0, 1, 0],\n",
       "       [1, 1, 1, 0, 1, 1, 0, 1, 0],\n",
       "       [0, 1, 0, 0, 0, 0, 0, 1, 0],\n",
       "       [1, 0, 0, 1, 0, 1, 0, 1, 0],\n",
       "       [1, 0, 0, 0, 0, 0, 0, 0, 1],\n",
       "       [1, 1, 0, 1, 0, 0, 1, 0, 1],\n",
       "       [1, 0, 0, 1, 0, 1, 0, 1, 0],\n",
       "       [0, 1, 1, 0, 0, 1, 0, 0, 0],\n",
       "       [1, 1, 0, 1, 0, 0, 0, 1, 0],\n",
       "       [1, 0, 0, 1, 0, 1, 0, 1, 0],\n",
       "       [0, 1, 1, 1, 0, 0, 1, 1, 1],\n",
       "       [1, 1, 0, 1, 0, 0, 1, 0, 1],\n",
       "       [1, 0, 0, 1, 0, 1, 0, 1, 0],\n",
       "       [0, 1, 1, 1, 1, 0, 1, 0, 0],\n",
       "       [1, 1, 1, 0, 1, 0, 1, 1, 1],\n",
       "       [1, 0, 0, 1, 0, 1, 0, 1, 0],\n",
       "       [0, 1, 1, 1, 0, 0, 1, 1, 1],\n",
       "       [0, 0, 1, 1, 1, 1, 0, 0, 1],\n",
       "       [1, 0, 0, 1, 0, 1, 0, 1, 0],\n",
       "       [1, 0, 0, 0, 1, 0, 1, 1, 0],\n",
       "       [0, 1, 1, 0, 0, 0, 1, 0, 0],\n",
       "       [1, 0, 0, 1, 0, 1, 0, 1, 0],\n",
       "       [0, 0, 1, 0, 1, 1, 0, 1, 1],\n",
       "       [0, 1, 0, 0, 1, 0, 0, 1, 1],\n",
       "       [1, 0, 0, 1, 0, 1, 0, 1, 0],\n",
       "       [0, 1, 0, 0, 1, 1, 1, 1, 1],\n",
       "       [1, 0, 1, 0, 1, 0, 1, 1, 1],\n",
       "       [1, 0, 0, 1, 0, 1, 0, 1, 0],\n",
       "       [1, 1, 0, 1, 0, 1, 1, 1, 1],\n",
       "       [0, 0, 0, 0, 0, 0, 1, 0, 1]])"
      ]
     },
     "execution_count": 14,
     "metadata": {},
     "output_type": "execute_result"
    }
   ],
   "source": [
    "dataset"
   ]
  },
  {
   "cell_type": "code",
   "execution_count": null,
   "metadata": {},
   "outputs": [],
   "source": []
  }
 ],
 "metadata": {
  "kernelspec": {
   "display_name": "Python 3",
   "language": "python",
   "name": "python3"
  },
  "language_info": {
   "codemirror_mode": {
    "name": "ipython",
    "version": 3
   },
   "file_extension": ".py",
   "mimetype": "text/x-python",
   "name": "python",
   "nbconvert_exporter": "python",
   "pygments_lexer": "ipython3",
   "version": "3.7.8"
  },
  "varInspector": {
   "cols": {
    "lenName": 16,
    "lenType": 16,
    "lenVar": 40
   },
   "kernels_config": {
    "python": {
     "delete_cmd_postfix": "",
     "delete_cmd_prefix": "del ",
     "library": "var_list.py",
     "varRefreshCmd": "print(var_dic_list())"
    },
    "r": {
     "delete_cmd_postfix": ") ",
     "delete_cmd_prefix": "rm(",
     "library": "var_list.r",
     "varRefreshCmd": "cat(var_dic_list()) "
    }
   },
   "types_to_exclude": [
    "module",
    "function",
    "builtin_function_or_method",
    "instance",
    "_Feature"
   ],
   "window_display": false
  }
 },
 "nbformat": 4,
 "nbformat_minor": 4
}
